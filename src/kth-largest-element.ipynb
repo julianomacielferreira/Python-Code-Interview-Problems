{
 "cells": [
  {
   "attachments": {},
   "cell_type": "markdown",
   "metadata": {},
   "source": [
    "# kth Largest Element\n",
    "\n",
    "Given an array of integers **int_array** and an integer **k**, find the **kth** largest element.\n",
    "\n",
    "k is between 1 and len(**int_array**)\n",
    "\n",
    "Example:\n",
    "\n",
    "**int_array** = [4 ,2, 9, 7, 5, 6 , 7, 1, 3]\n",
    "\n",
    "**k** = 4\n",
    "\n",
    "**Output**:\n",
    "\n",
    "- 1º largest element is 9\n",
    "- 2º largest element is 7\n",
    "- 3º largest element is 7\n",
    "- 4º largest element is 6\n"
   ]
  },
  {
   "cell_type": "code",
   "execution_count": 15,
   "metadata": {},
   "outputs": [],
   "source": [
    "# Data example\n",
    "int_array = [4, 2, 9, 7, 5, 6, 7, 1, 3]"
   ]
  },
  {
   "cell_type": "code",
   "execution_count": 18,
   "metadata": {},
   "outputs": [
    {
     "name": "stdout",
     "output_type": "stream",
     "text": [
      "6\n"
     ]
    }
   ],
   "source": [
    "def kth_largest_element(int_array, k):\n",
    "    \"\"\"\n",
    "        Given an array of integers and an integer k, find the kth largest element.\n",
    "\n",
    "        Params:\n",
    "            array (array): Ordered array\n",
    "            k (int): Position to find the element\n",
    "\n",
    "        Returns:\n",
    "            -1 if the target was not in array, otherwise returns the element\n",
    "    \"\"\"\n",
    "    int_array = sorted(int_array)\n",
    "    \n",
    "    return int_array[-k]\n",
    "\n",
    "\n",
    "print(kth_largest_element(int_array, 4))\n"
   ]
  }
 ],
 "metadata": {
  "kernelspec": {
   "display_name": ".venv",
   "language": "python",
   "name": "python3"
  },
  "language_info": {
   "codemirror_mode": {
    "name": "ipython",
    "version": 3
   },
   "file_extension": ".py",
   "mimetype": "text/x-python",
   "name": "python",
   "nbconvert_exporter": "python",
   "pygments_lexer": "ipython3",
   "version": "3.8.10"
  },
  "orig_nbformat": 4,
  "vscode": {
   "interpreter": {
    "hash": "eb264c82dc9abd0abc24fdbfcf8e347676fb72b772f93dc0ea2d47ba13a1ff5b"
   }
  }
 },
 "nbformat": 4,
 "nbformat_minor": 2
}
