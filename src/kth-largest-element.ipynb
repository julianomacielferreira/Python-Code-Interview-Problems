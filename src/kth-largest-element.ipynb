{
 "cells": [
  {
   "attachments": {},
   "cell_type": "markdown",
   "metadata": {},
   "source": [
    "# kth Largest Element\n",
    "\n",
    "Given an array of integers **int_array** and an integer **k**, find the **kth** largest element.\n",
    "\n",
    "k is between 1 and len(**int_array**)\n",
    "\n",
    "Example:\n",
    "\n",
    "**int_array** = [4 ,2, 9, 7, 5, 6 , 7, 1, 3]\n",
    "\n",
    "**k** = 4\n",
    "\n",
    "**Output**:\n",
    "\n",
    "- 1º largest element is 9\n",
    "- 2º largest element is 7\n",
    "- 3º largest element is 7\n",
    "- 4º largest element is 6\n",
    "\n",
    "**Procedure**:\n",
    "\n",
    "- 1º iteration: the maximum is 9, remove it\n",
    "- 2º iteration: the maximum is 7, remove it\n",
    "- 3º iteration: the maximum is 7, remove it\n",
    "- 4º iteration: the maximum is 6, the kth largest element\n"
   ]
  },
  {
   "cell_type": "code",
   "execution_count": 44,
   "metadata": {},
   "outputs": [],
   "source": [
    "import numpy as np\n",
    "\n",
    "# Data example\n",
    "int_array = [4, 2, 9, 7, 5, 6, 7, 1, 3]"
   ]
  },
  {
   "cell_type": "code",
   "execution_count": 45,
   "metadata": {},
   "outputs": [],
   "source": [
    "def kth_largest_element_v1(int_array, k):\n",
    "    \"\"\"\n",
    "        Given an array of integers and an integer k, find the kth largest element.\n",
    "\n",
    "        Params:\n",
    "            array (array): Ordered array\n",
    "            k (int): Position to find the element\n",
    "\n",
    "        Returns:\n",
    "            -1 if the target was not in array, otherwise returns the element\n",
    "    \"\"\"\n",
    "    if k <= 0 or k > len(int_array):\n",
    "        return -1\n",
    "\n",
    "    _array_ = np.array(int_array)\n",
    "\n",
    "    _array_ = sorted(_array_)\n",
    "\n",
    "    return _array_[-k]\n",
    "\n",
    "\n",
    "assert (kth_largest_element_v1(int_array, 4) == 6)\n",
    "assert (kth_largest_element_v1(int_array, 11) == -1)\n"
   ]
  },
  {
   "cell_type": "code",
   "execution_count": 46,
   "metadata": {},
   "outputs": [],
   "source": [
    "def kth_largest_element_v2(int_array, k):\n",
    "    \"\"\"\n",
    "        Given an array of integers and an integer k, find the kth largest element.\n",
    "\n",
    "        Params:\n",
    "            array (array): Ordered array\n",
    "            k (int): Position to find the element\n",
    "\n",
    "        Returns:\n",
    "            -1 if the target was not in array, otherwise returns the element\n",
    "    \"\"\"\n",
    "    if k <= 0 or k > len(int_array):\n",
    "        return -1\n",
    "\n",
    "    _array_ = np.array(int_array)\n",
    "\n",
    "    for i in range(k-2):\n",
    "        _array_ = np.delete(_array_, np.where(_array_ == max(_array_)))\n",
    "\n",
    "    return max(_array_)\n",
    "\n",
    "\n",
    "assert (kth_largest_element_v2(int_array, 4) == 6)\n",
    "assert (kth_largest_element_v2(int_array, 11) == -1)\n"
   ]
  },
  {
   "cell_type": "code",
   "execution_count": 47,
   "metadata": {},
   "outputs": [],
   "source": [
    "import heapq\n",
    "\n",
    "\n",
    "def kth_largest_element_v3(int_array, k):\n",
    "    \"\"\"\n",
    "        Given an array of integers and an integer k, find the kth largest element.\n",
    "\n",
    "        Params:\n",
    "            array (array): Ordered array\n",
    "            k (int): Position to find the element\n",
    "\n",
    "        Returns:\n",
    "            -1 if the target was not in array, otherwise returns the element\n",
    "    \"\"\"\n",
    "    if k <= 0 or k > len(int_array):\n",
    "        return -1\n",
    "\n",
    "    _array_ = np.array(int_array)\n",
    "\n",
    "    _array_ = [-item for item in _array_]\n",
    "\n",
    "    heapq.heapify(_array_)\n",
    "\n",
    "    for i in range(k-1):\n",
    "        heapq.heappop(_array_)\n",
    "\n",
    "    return -heapq.heappop(_array_)\n",
    "\n",
    "\n",
    "assert (kth_largest_element_v3(int_array, 4) == 6)\n",
    "assert (kth_largest_element_v3(int_array, 11) == -1)\n"
   ]
  }
 ],
 "metadata": {
  "kernelspec": {
   "display_name": ".venv",
   "language": "python",
   "name": "python3"
  },
  "language_info": {
   "codemirror_mode": {
    "name": "ipython",
    "version": 3
   },
   "file_extension": ".py",
   "mimetype": "text/x-python",
   "name": "python",
   "nbconvert_exporter": "python",
   "pygments_lexer": "ipython3",
   "version": "3.8.10"
  },
  "orig_nbformat": 4,
  "vscode": {
   "interpreter": {
    "hash": "eb264c82dc9abd0abc24fdbfcf8e347676fb72b772f93dc0ea2d47ba13a1ff5b"
   }
  }
 },
 "nbformat": 4,
 "nbformat_minor": 2
}
