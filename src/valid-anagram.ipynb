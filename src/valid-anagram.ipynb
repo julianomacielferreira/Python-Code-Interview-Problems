{
 "cells": [
  {
   "attachments": {},
   "cell_type": "markdown",
   "metadata": {},
   "source": [
    "## Valid Anagram\n",
    "\n",
    "Given two strings **str1** and **str2**, verify if they are anagrams.\n",
    "\n",
    "Two strings are anagrams if they are made of the same characters with the same frequencies, just with a different order.\n",
    "\n",
    "Summarizing, the solution just compare the frequencies of characters of __str1__ to the frequencies of characters of __str2__, if they're equals returns True.\n",
    "\n",
    "Examples:\n",
    "\n",
    "- **triangle** / **integral**\n",
    "- **danger** / **garden**\n",
    "- **peach** / **cheap**\n",
    "- **elbow** / **below**\n",
    "- **cat** / **act**\n"
   ]
  },
  {
   "cell_type": "code",
   "execution_count": 35,
   "metadata": {},
   "outputs": [],
   "source": [
    "words = {\n",
    "    'triangle': 'integral',\n",
    "    'danger': 'garden',\n",
    "    'hot': 'dog',\n",
    "    'elbow': 'below',\n",
    "    'peach': 'cheap',\n",
    "    'cat': 'act',\n",
    "    'cart': 'star',\n",
    "    'TRIANGLE': 'integral'\n",
    "}\n"
   ]
  },
  {
   "cell_type": "code",
   "execution_count": 36,
   "metadata": {},
   "outputs": [
    {
     "name": "stdout",
     "output_type": "stream",
     "text": [
      "Is the word \"triangle\" is anagram of \"integral\": True?\n",
      "Is the word \"danger\" is anagram of \"garden\": True?\n",
      "Is the word \"hot\" is anagram of \"dog\": False?\n",
      "Is the word \"elbow\" is anagram of \"below\": True?\n",
      "Is the word \"peach\" is anagram of \"cheap\": True?\n",
      "Is the word \"cat\" is anagram of \"act\": True?\n",
      "Is the word \"cart\" is anagram of \"star\": False?\n",
      "Is the word \"TRIANGLE\" is anagram of \"integral\": True?\n"
     ]
    }
   ],
   "source": [
    "def is_anagram_v1(word_A, word_B):\n",
    "    \"\"\"\n",
    "        Verify if two string are anagram\n",
    "\n",
    "        Params:\n",
    "            word_A (str): First word to compare\n",
    "            word_B (str): Second word to compare\n",
    "\n",
    "        Returns:\n",
    "            True if they are anagrams, False otherwise\n",
    "    \"\"\"\n",
    "    # Check the lengths\n",
    "    if len(word_A) != len(word_B):\n",
    "        return False\n",
    "\n",
    "    frequencies_of_A = {}\n",
    "\n",
    "    for char1 in word_A.lower():\n",
    "        if char1 in frequencies_of_A:\n",
    "            frequencies_of_A[char1] += 1\n",
    "        else:\n",
    "            frequencies_of_A[char1] = 1\n",
    "\n",
    "    frequencies_of_B = {}\n",
    "\n",
    "    for char2 in word_B.lower():\n",
    "        if char2 in frequencies_of_B:\n",
    "            frequencies_of_B[char2] += 1\n",
    "        else:\n",
    "            frequencies_of_B[char2] = 1\n",
    "\n",
    "    return frequencies_of_A == frequencies_of_B\n",
    "\n",
    "\n",
    "# Checking with examples\n",
    "for key in words:\n",
    "    print(\n",
    "        'Is the word \"{0}\" is anagram of \"{1}\"? {2}'.format(\n",
    "            key, words[key], is_anagram_v1(key, words[key]))\n",
    "    )\n"
   ]
  },
  {
   "cell_type": "code",
   "execution_count": 37,
   "metadata": {},
   "outputs": [
    {
     "name": "stdout",
     "output_type": "stream",
     "text": [
      "Is the word \"triangle\" is anagram of \"integral\": True?\n",
      "Is the word \"danger\" is anagram of \"garden\": True?\n",
      "Is the word \"hot\" is anagram of \"dog\": False?\n",
      "Is the word \"elbow\" is anagram of \"below\": True?\n",
      "Is the word \"peach\" is anagram of \"cheap\": True?\n",
      "Is the word \"cat\" is anagram of \"act\": True?\n",
      "Is the word \"cart\" is anagram of \"star\": False?\n",
      "Is the word \"TRIANGLE\" is anagram of \"integral\": True?\n"
     ]
    }
   ],
   "source": [
    "def is_anagram_v2(word_A, word_B):\n",
    "    \"\"\"\n",
    "        Verify if two string are anagram\n",
    "\n",
    "        Params:\n",
    "            word_A (str): First word to compare\n",
    "            word_B (str): Second word to compare\n",
    "\n",
    "        Returns:\n",
    "            True if they are anagrams, False otherwise\n",
    "    \"\"\"\n",
    "    # Check the lengths\n",
    "    if len(word_A) != len(word_B):\n",
    "        return False\n",
    "\n",
    "    # Iterate throught str1 and check if str2 contains each character too\n",
    "    for char1 in word_A.lower():\n",
    "        if char1 not in word_B.lower():\n",
    "            return False\n",
    "\n",
    "    return True\n",
    "\n",
    "\n",
    "# Checking with examples\n",
    "for key in words:\n",
    "    print(\n",
    "        'Is the word \"{0}\" is anagram of \"{1}\"? {2}'.format(\n",
    "            key, words[key], is_anagram_v2(key, words[key]))\n",
    "    )\n"
   ]
  }
 ],
 "metadata": {
  "kernelspec": {
   "display_name": ".venv",
   "language": "python",
   "name": "python3"
  },
  "language_info": {
   "codemirror_mode": {
    "name": "ipython",
    "version": 3
   },
   "file_extension": ".py",
   "mimetype": "text/x-python",
   "name": "python",
   "nbconvert_exporter": "python",
   "pygments_lexer": "ipython3",
   "version": "3.8.10"
  },
  "orig_nbformat": 4,
  "vscode": {
   "interpreter": {
    "hash": "eb264c82dc9abd0abc24fdbfcf8e347676fb72b772f93dc0ea2d47ba13a1ff5b"
   }
  }
 },
 "nbformat": 4,
 "nbformat_minor": 2
}
