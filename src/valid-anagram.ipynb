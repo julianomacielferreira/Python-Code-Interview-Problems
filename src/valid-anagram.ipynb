{
 "cells": [
  {
   "attachments": {},
   "cell_type": "markdown",
   "metadata": {},
   "source": [
    "## Valid Anagram\n",
    "\n",
    "Given two strings __str1__ and __str2__, verify if they are anagrams.\n",
    "\n",
    "Two strings are anagrams if they are made of the same characters with the same frequencies, just with a different order.\n",
    "\n",
    "Examples:\n",
    "\n",
    "- __triangle__ / __integral__\n",
    "- __danger__ / __garden__\n",
    "- __peach__ / __cheap__\n",
    "- __elbow__ / __below__\n",
    "- __cat__ / __act__"
   ]
  },
  {
   "cell_type": "code",
   "execution_count": 19,
   "metadata": {},
   "outputs": [],
   "source": [
    "def is_anagram(str1, str2):\n",
    "    \"\"\"\n",
    "        Verify if two string are anagram\n",
    "\n",
    "        Params:\n",
    "            str1 (str): First word to compare\n",
    "            str2 (str): Second word to compare\n",
    "\n",
    "        Returns:\n",
    "            True if they are anagrams, False otherwise\n",
    "    \"\"\"\n",
    "    # Check the lengths\n",
    "    if(len(str1) != len(str2)):\n",
    "        return False\n",
    "\n",
    "    return True\n"
   ]
  },
  {
   "cell_type": "code",
   "execution_count": 20,
   "metadata": {},
   "outputs": [
    {
     "name": "stdout",
     "output_type": "stream",
     "text": [
      "The word \"triangle\" is anagram of \"integral\": True\n",
      "The word \"danger\" is anagram of \"garden\": True\n",
      "The word \"hot\" is anagram of \"dog\": True\n",
      "The word \"elbow\" is anagram of \"below\": True\n",
      "The word \"peach\" is anagram of \"cheap\": True\n",
      "The word \"cat\" is anagram of \"act\": True\n",
      "The word \"cart\" is anagram of \"star\": True\n"
     ]
    }
   ],
   "source": [
    "anagrams = {\n",
    "    'triangle': 'integral',\n",
    "    'danger': 'garden',\n",
    "    'hot': 'dog',\n",
    "    'elbow': 'below',\n",
    "    'peach': 'cheap',\n",
    "    'cat': 'act',\n",
    "    'cart': 'star'\n",
    "}\n",
    "\n",
    "for key in anagrams:\n",
    "    print(\n",
    "        'The word \"{0}\" is anagram of \"{1}\": {2}'.format(key, anagrams[key],is_anagram(key,anagrams[key]))\n",
    "    )"
   ]
  }
 ],
 "metadata": {
  "kernelspec": {
   "display_name": ".venv",
   "language": "python",
   "name": "python3"
  },
  "language_info": {
   "codemirror_mode": {
    "name": "ipython",
    "version": 3
   },
   "file_extension": ".py",
   "mimetype": "text/x-python",
   "name": "python",
   "nbconvert_exporter": "python",
   "pygments_lexer": "ipython3",
   "version": "3.8.10"
  },
  "orig_nbformat": 4,
  "vscode": {
   "interpreter": {
    "hash": "eb264c82dc9abd0abc24fdbfcf8e347676fb72b772f93dc0ea2d47ba13a1ff5b"
   }
  }
 },
 "nbformat": 4,
 "nbformat_minor": 2
}
