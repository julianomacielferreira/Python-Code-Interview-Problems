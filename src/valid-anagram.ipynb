{
 "cells": [
  {
   "attachments": {},
   "cell_type": "markdown",
   "metadata": {},
   "source": [
    "## Valid Anagram\n",
    "\n",
    "Given two strings **str1** and **str2**, verify if they are anagrams.\n",
    "\n",
    "Two strings are anagrams if they are made of the same characters with the same frequencies, just with a different order.\n",
    "\n",
    "Summarizing, the solution just compare the frequencies of characters of __str1__ to the frequencies of characters of __str2__, if they're equals returns True.\n",
    "\n",
    "Examples:\n",
    "\n",
    "- **triangle** / **integral**\n",
    "- **danger** / **garden**\n",
    "- **peach** / **cheap**\n",
    "- **elbow** / **below**\n",
    "- **cat** / **act**\n"
   ]
  },
  {
   "cell_type": "code",
   "execution_count": 25,
   "metadata": {},
   "outputs": [],
   "source": [
    "def is_anagram(str1, str2):\n",
    "    \"\"\"\n",
    "        Verify if two string are anagram\n",
    "\n",
    "        Params:\n",
    "            str1 (str): First word to compare\n",
    "            str2 (str): Second word to compare\n",
    "\n",
    "        Returns:\n",
    "            True if they are anagrams, False otherwise\n",
    "    \"\"\"\n",
    "    # Check the lengths\n",
    "    if len(str1) != len(str2):\n",
    "        return False\n",
    "\n",
    "    # Iterate throught str1 and check if str2 contains each character too\n",
    "    for char1 in str1:\n",
    "        if char1 not in str2:\n",
    "            return False\n",
    "\n",
    "    return True\n"
   ]
  },
  {
   "cell_type": "code",
   "execution_count": 26,
   "metadata": {},
   "outputs": [
    {
     "name": "stdout",
     "output_type": "stream",
     "text": [
      "The word \"triangle\" is anagram of \"integral\": True\n",
      "The word \"danger\" is anagram of \"garden\": True\n",
      "The word \"hot\" is anagram of \"dog\": False\n",
      "The word \"elbow\" is anagram of \"below\": True\n",
      "The word \"peach\" is anagram of \"cheap\": True\n",
      "The word \"cat\" is anagram of \"act\": True\n",
      "The word \"cart\" is anagram of \"star\": False\n"
     ]
    }
   ],
   "source": [
    "words = {\n",
    "    'triangle': 'integral',\n",
    "    'danger': 'garden',\n",
    "    'hot': 'dog',\n",
    "    'elbow': 'below',\n",
    "    'peach': 'cheap',\n",
    "    'cat': 'act',\n",
    "    'cart': 'star'\n",
    "}\n",
    "\n",
    "for key in words:\n",
    "    print(\n",
    "        'The word \"{0}\" is anagram of \"{1}\": {2}'.format(\n",
    "            key, words[key], is_anagram(key, words[key]))\n",
    "    )\n"
   ]
  }
 ],
 "metadata": {
  "kernelspec": {
   "display_name": ".venv",
   "language": "python",
   "name": "python3"
  },
  "language_info": {
   "codemirror_mode": {
    "name": "ipython",
    "version": 3
   },
   "file_extension": ".py",
   "mimetype": "text/x-python",
   "name": "python",
   "nbconvert_exporter": "python",
   "pygments_lexer": "ipython3",
   "version": "3.8.10"
  },
  "orig_nbformat": 4,
  "vscode": {
   "interpreter": {
    "hash": "eb264c82dc9abd0abc24fdbfcf8e347676fb72b772f93dc0ea2d47ba13a1ff5b"
   }
  }
 },
 "nbformat": 4,
 "nbformat_minor": 2
}
