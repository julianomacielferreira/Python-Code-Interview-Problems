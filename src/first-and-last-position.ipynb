{
 "cells": [
  {
   "cell_type": "code",
   "execution_count": null,
   "metadata": {},
   "outputs": [],
   "source": []
  }
 ],
 "metadata": {
  "kernelspec": {
   "display_name": ".venv",
   "language": "python",
   "name": "python3"
  },
  "language_info": {
   "name": "python",
   "version": "3.8.10 (default, Nov 14 2022, 12:59:47) \n[GCC 9.4.0]"
  },
  "orig_nbformat": 4,
  "vscode": {
   "interpreter": {
    "hash": "eb264c82dc9abd0abc24fdbfcf8e347676fb72b772f93dc0ea2d47ba13a1ff5b"
   }
  }
 },
 "nbformat": 4,
 "nbformat_minor": 2
}
