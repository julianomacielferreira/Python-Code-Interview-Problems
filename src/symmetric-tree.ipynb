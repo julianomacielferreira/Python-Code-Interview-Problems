{
 "cells": [
  {
   "attachments": {},
   "cell_type": "markdown",
   "metadata": {},
   "source": [
    "# Symetric tree\n",
    "\n",
    "Given a binary tree **root**, check if it's symmetric around its center (a mirror of itself).\n",
    "\n",
    "Example:\n",
    "\n",
    "**symmetric tree**\n",
    "\n",
    "![Symmetric Tree](../assets/img/symmetric-tree.png)\n",
    "\n",
    "**un-symmetric tree**:\n",
    "\n",
    "![No symmetric Tree](../assets/img/no-symmetric-tree.png)"
   ]
  },
  {
   "cell_type": "code",
   "execution_count": null,
   "metadata": {},
   "outputs": [],
   "source": []
  }
 ],
 "metadata": {
  "kernelspec": {
   "display_name": ".venv",
   "language": "python",
   "name": "python3"
  },
  "language_info": {
   "codemirror_mode": {
    "name": "ipython",
    "version": 3
   },
   "file_extension": ".py",
   "mimetype": "text/x-python",
   "name": "python",
   "nbconvert_exporter": "python",
   "pygments_lexer": "ipython3",
   "version": "3.8.10"
  },
  "orig_nbformat": 4,
  "vscode": {
   "interpreter": {
    "hash": "eb264c82dc9abd0abc24fdbfcf8e347676fb72b772f93dc0ea2d47ba13a1ff5b"
   }
  }
 },
 "nbformat": 4,
 "nbformat_minor": 2
}
